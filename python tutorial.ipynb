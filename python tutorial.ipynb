{
 "metadata": {
  "name": ""
 },
 "nbformat": 3,
 "nbformat_minor": 0,
 "worksheets": [
  {
   "cells": [
    {
     "cell_type": "code",
     "collapsed": false,
     "input": [
      "import pandas as pd\n",
      "import matplotlib.pyplot as plt\n",
      "%matplotlib inline"
     ],
     "language": "python",
     "metadata": {},
     "outputs": []
    },
    {
     "cell_type": "code",
     "collapsed": false,
     "input": [
      "school_data = pd.read_csv(\"/Users/jcgiuffrida/Documents/tech/resources/Data merged and ready for investigation.csv\")\n",
      "pd.set_option('max_info_columns', 14)\n",
      "school_data"
     ],
     "language": "python",
     "metadata": {},
     "outputs": []
    },
    {
     "cell_type": "code",
     "collapsed": false,
     "input": [
      "school_data.head()"
     ],
     "language": "python",
     "metadata": {},
     "outputs": []
    },
    {
     "cell_type": "code",
     "collapsed": false,
     "input": [
      "school_data.bTreated.sum(0)"
     ],
     "language": "python",
     "metadata": {},
     "outputs": []
    },
    {
     "cell_type": "code",
     "collapsed": false,
     "input": [
      "plt.scatter(school_data[school_data['bTreated']==1].Pretest, school_data[school_data['bTreated']==1].Posttest1)\n",
      "plt.title('Treatment group only: Pretest v. Posttest1')"
     ],
     "language": "python",
     "metadata": {},
     "outputs": []
    },
    {
     "cell_type": "code",
     "collapsed": false,
     "input": [
      "school_data['testImprovement'] = school_data.Posttest1 - school_data.Pretest\n",
      "school_data.head()"
     ],
     "language": "python",
     "metadata": {},
     "outputs": [
      {
       "html": [
        "<div style=\"max-height:1000px;max-width:1500px;overflow:auto;\">\n",
        "<table border=\"1\" class=\"dataframe\">\n",
        "  <thead>\n",
        "    <tr style=\"text-align: right;\">\n",
        "      <th></th>\n",
        "      <th>StudId</th>\n",
        "      <th>bTreated</th>\n",
        "      <th>cRace</th>\n",
        "      <th>bGender</th>\n",
        "      <th>Bpi</th>\n",
        "      <th>Pretest</th>\n",
        "      <th>Posttest1</th>\n",
        "      <th>Posttest2</th>\n",
        "      <th>AssignedSchNum</th>\n",
        "      <th>SchName</th>\n",
        "      <th>SchType</th>\n",
        "      <th>testImprovement</th>\n",
        "    </tr>\n",
        "  </thead>\n",
        "  <tbody>\n",
        "    <tr>\n",
        "      <th>0</th>\n",
        "      <td> 1</td>\n",
        "      <td> 0</td>\n",
        "      <td> 1</td>\n",
        "      <td> 0</td>\n",
        "      <td>  1</td>\n",
        "      <td> 117</td>\n",
        "      <td> 144</td>\n",
        "      <td> 136</td>\n",
        "      <td> 1</td>\n",
        "      <td> 84</td>\n",
        "      <td> 1</td>\n",
        "      <td> 27</td>\n",
        "    </tr>\n",
        "    <tr>\n",
        "      <th>1</th>\n",
        "      <td> 2</td>\n",
        "      <td> 0</td>\n",
        "      <td> 1</td>\n",
        "      <td> 1</td>\n",
        "      <td>  1</td>\n",
        "      <td> 118</td>\n",
        "      <td> 193</td>\n",
        "      <td> 268</td>\n",
        "      <td> 1</td>\n",
        "      <td> 84</td>\n",
        "      <td> 1</td>\n",
        "      <td> 75</td>\n",
        "    </tr>\n",
        "    <tr>\n",
        "      <th>2</th>\n",
        "      <td> 3</td>\n",
        "      <td> 0</td>\n",
        "      <td> 1</td>\n",
        "      <td> 0</td>\n",
        "      <td>  3</td>\n",
        "      <td>  93</td>\n",
        "      <td> 118</td>\n",
        "      <td> 177</td>\n",
        "      <td> 1</td>\n",
        "      <td> 84</td>\n",
        "      <td> 1</td>\n",
        "      <td> 25</td>\n",
        "    </tr>\n",
        "    <tr>\n",
        "      <th>3</th>\n",
        "      <td> 4</td>\n",
        "      <td> 0</td>\n",
        "      <td> 1</td>\n",
        "      <td> 1</td>\n",
        "      <td>  3</td>\n",
        "      <td> 120</td>\n",
        "      <td> 133</td>\n",
        "      <td> 231</td>\n",
        "      <td> 1</td>\n",
        "      <td> 84</td>\n",
        "      <td> 1</td>\n",
        "      <td> 13</td>\n",
        "    </tr>\n",
        "    <tr>\n",
        "      <th>4</th>\n",
        "      <td> 5</td>\n",
        "      <td> 1</td>\n",
        "      <td> 1</td>\n",
        "      <td> 0</td>\n",
        "      <td> 11</td>\n",
        "      <td>  60</td>\n",
        "      <td>  46</td>\n",
        "      <td>  31</td>\n",
        "      <td> 1</td>\n",
        "      <td> 84</td>\n",
        "      <td> 1</td>\n",
        "      <td>-14</td>\n",
        "    </tr>\n",
        "  </tbody>\n",
        "</table>\n",
        "</div>"
       ],
       "metadata": {},
       "output_type": "pyout",
       "prompt_number": 79,
       "text": [
        "   StudId  bTreated  cRace  bGender  Bpi  Pretest  Posttest1  Posttest2  \\\n",
        "0       1         0      1        0    1      117        144        136   \n",
        "1       2         0      1        1    1      118        193        268   \n",
        "2       3         0      1        0    3       93        118        177   \n",
        "3       4         0      1        1    3      120        133        231   \n",
        "4       5         1      1        0   11       60         46         31   \n",
        "\n",
        "   AssignedSchNum  SchName  SchType  testImprovement  \n",
        "0               1       84        1               27  \n",
        "1               1       84        1               75  \n",
        "2               1       84        1               25  \n",
        "3               1       84        1               13  \n",
        "4               1       84        1              -14  "
       ]
      }
     ],
     "prompt_number": 79
    },
    {
     "cell_type": "code",
     "collapsed": false,
     "input": [
      "print \"got treatment:\"\n",
      "school_data[school_data['bTreated']==1].testImprovement.describe()"
     ],
     "language": "python",
     "metadata": {},
     "outputs": [
      {
       "output_type": "stream",
       "stream": "stdout",
       "text": [
        "got treatment:\n"
       ]
      },
      {
       "metadata": {},
       "output_type": "pyout",
       "prompt_number": 89,
       "text": [
        "count    2151.000000\n",
        "mean       41.407252\n",
        "std        35.695177\n",
        "min      -101.000000\n",
        "25%        17.000000\n",
        "50%        42.000000\n",
        "75%        65.000000\n",
        "max       155.000000\n",
        "dtype: float64"
       ]
      }
     ],
     "prompt_number": 89
    },
    {
     "cell_type": "code",
     "collapsed": false,
     "input": [
      "print \"did not get treatment:\"\n",
      "school_data[school_data['bTreated']==0].testImprovement.describe()"
     ],
     "language": "python",
     "metadata": {},
     "outputs": [
      {
       "output_type": "stream",
       "stream": "stdout",
       "text": [
        "did not get treatment:\n"
       ]
      },
      {
       "metadata": {},
       "output_type": "pyout",
       "prompt_number": 88,
       "text": [
        "count    22117.000000\n",
        "mean        33.703667\n",
        "std         34.129929\n",
        "min       -120.000000\n",
        "25%         11.000000\n",
        "50%         34.000000\n",
        "75%         57.000000\n",
        "max        176.000000\n",
        "dtype: float64"
       ]
      }
     ],
     "prompt_number": 88
    },
    {
     "cell_type": "code",
     "collapsed": true,
     "input": [
      "plt.scatter(school_data[school_data['bTreated']==1].Pretest, school_data[school_data['bTreated']==1].testImprovement)\n",
      "plt.title('Treatment group only: Pretest v. Treatment 1 effect')"
     ],
     "language": "python",
     "metadata": {},
     "outputs": [
      {
       "metadata": {},
       "output_type": "pyout",
       "prompt_number": 94,
       "text": [
        "<matplotlib.text.Text at 0x10f556910>"
       ]
      },
      {
       "metadata": {},
       "output_type": "display_data",
       "png": "[encoded data removed]",
       "text": [
        "<matplotlib.figure.Figure at 0x110e704d0>"
       ]
      }
     ],
     "prompt_number": 94
    },
    {
     "cell_type": "code",
     "collapsed": false,
     "input": [
      "print 'Total of test improvements for treatment group =', school_data[school_data['bTreated']==1].testImprovement.sum(0) \n",
      "print 'Number of students in treatment group = ', school_data.bTreated.sum(0)\n",
      "averageTreamentScoreImprovement = school_data[school_data['bTreated']==1].testImprovement.sum(0)/ school_data.bTreated.sum(0)\n",
      "print 'Average test improvement for treatment group = ', averageTreamentScoreImprovement\n",
      "averageControlScoreImprovement = school_data[school_data['bTreated']==0].testImprovement.sum(0)/ school_data[school_data['bTreated']==0].bTreated.count()\n",
      "print 'Average test improvement for control group = ', averageControlScoreImprovement"
     ],
     "language": "python",
     "metadata": {},
     "outputs": [
      {
       "output_type": "stream",
       "stream": "stdout",
       "text": [
        "Total of test improvements for treatment group = 89067\n",
        "Number of students in treatment group =  2151\n",
        "Average test improvement for treatment group =  41\n",
        "Average test improvement for control group =  33\n"
       ]
      }
     ],
     "prompt_number": 102
    },
    {
     "cell_type": "code",
     "collapsed": false,
     "input": [
      "school_data.AssignedSchNum.unique()"
     ],
     "language": "python",
     "metadata": {},
     "outputs": [
      {
       "metadata": {},
       "output_type": "pyout",
       "prompt_number": 103,
       "text": [
        "array([  1,  10, 100, 101, 102, 103, 104, 105, 106,  11,  12,  13,  14,\n",
        "        15,  16,  17,  18,  19,   2,  20,  21,  22,  23,  24,  25,  26,\n",
        "        27,  28,  29,   3,  30,  31,  32,  33,  34,  35,  36,  37,  38,\n",
        "        39,   4,  40,  41,  42,  43,  44,  45,  46,  47,  48,  49,   5,\n",
        "        50,  51,  52,  53,  54,  55,  56,  57,  58,  59,   6,  60,  61,\n",
        "        62,  63,  64,  65,  66,  67,  68,  69,   7,  70,  71,  72,  73,\n",
        "        74,  75,  76,  77,  78,  79,   8,  80,  81,  82,  83,  84,  85,\n",
        "        86,  87,  88,  89,   9,  90,  91,  92,  93,  94,  95,  96,  97,\n",
        "        98,  99])"
       ]
      }
     ],
     "prompt_number": 103
    },
    {
     "cell_type": "code",
     "collapsed": false,
     "input": [
      "school_data.SchName.unique()"
     ],
     "language": "python",
     "metadata": {},
     "outputs": [
      {
       "metadata": {},
       "output_type": "pyout",
       "prompt_number": 104,
       "text": [
        "array([ 84,  33,  15,  73,  38, 105,  25,  28,  35,  42,  48,  52,  64,\n",
        "        21,   9, 104,  55,  67,   8,  85,  76,  63,  94,  72,  24, 106,\n",
        "        75,  45, 100,  47,  23,  95,  98,  58,  66,  62,  46,  36,  77,\n",
        "        29,  51,  57,  32,  49,  80,  41,  12,  54,  79,  27,  83,  92,\n",
        "        78,  17,   4,   7,  81,  60,  70,  31,  74,  16,  19,  43,   5,\n",
        "        30,  18,  69,   2,  96,  88,  22,  99,  34,   3,  10,  90,  71,\n",
        "        50,  86,  91,  65, 103,  68,  61,  26,  11, 101,   1,  87,   6,\n",
        "        40,  97,  37,  89,  20,  59,  39,  93, 102,  44,  56,  14,  82,\n",
        "        13,  53])"
       ]
      }
     ],
     "prompt_number": 104
    },
    {
     "cell_type": "code",
     "collapsed": false,
     "input": [
      "school_data.SchType.unique()"
     ],
     "language": "python",
     "metadata": {},
     "outputs": [
      {
       "metadata": {},
       "output_type": "pyout",
       "prompt_number": 105,
       "text": [
        "array([1, 2])"
       ]
      }
     ],
     "prompt_number": 105
    },
    {
     "cell_type": "code",
     "collapsed": false,
     "input": [
      "school_data.unique()"
     ],
     "language": "python",
     "metadata": {},
     "outputs": [
      {
       "ename": "AttributeError",
       "evalue": "'DataFrame' object has no attribute 'unique'",
       "output_type": "pyerr",
       "traceback": [
        "\u001b[0;31m---------------------------------------------------------------------------\u001b[0m\n\u001b[0;31mAttributeError\u001b[0m                            Traceback (most recent call last)",
        "\u001b[0;32m<ipython-input-106-d8f6dffc5efe>\u001b[0m in \u001b[0;36m<module>\u001b[0;34m()\u001b[0m\n\u001b[0;32m----> 1\u001b[0;31m \u001b[0mschool_data\u001b[0m\u001b[0;34m.\u001b[0m\u001b[0munique\u001b[0m\u001b[0;34m(\u001b[0m\u001b[0;34m)\u001b[0m\u001b[0;34m\u001b[0m\u001b[0m\n\u001b[0m",
        "\u001b[0;32m/Users/jcgiuffrida/Library/Enthought/Canopy_64bit/User/lib/python2.7/site-packages/pandas/core/frame.pyc\u001b[0m in \u001b[0;36m__getattr__\u001b[0;34m(self, name)\u001b[0m\n\u001b[1;32m   2086\u001b[0m             \u001b[0;32mreturn\u001b[0m \u001b[0mself\u001b[0m\u001b[0;34m[\u001b[0m\u001b[0mname\u001b[0m\u001b[0;34m]\u001b[0m\u001b[0;34m\u001b[0m\u001b[0m\n\u001b[1;32m   2087\u001b[0m         raise AttributeError(\"'%s' object has no attribute '%s'\" %\n\u001b[0;32m-> 2088\u001b[0;31m                              (type(self).__name__, name))\n\u001b[0m\u001b[1;32m   2089\u001b[0m \u001b[0;34m\u001b[0m\u001b[0m\n\u001b[1;32m   2090\u001b[0m     \u001b[0;32mdef\u001b[0m \u001b[0m__setattr__\u001b[0m\u001b[0;34m(\u001b[0m\u001b[0mself\u001b[0m\u001b[0;34m,\u001b[0m \u001b[0mname\u001b[0m\u001b[0;34m,\u001b[0m \u001b[0mvalue\u001b[0m\u001b[0;34m)\u001b[0m\u001b[0;34m:\u001b[0m\u001b[0;34m\u001b[0m\u001b[0m\n",
        "\u001b[0;31mAttributeError\u001b[0m: 'DataFrame' object has no attribute 'unique'"
       ]
      }
     ],
     "prompt_number": 106
    },
    {
     "cell_type": "code",
     "collapsed": false,
     "input": [],
     "language": "python",
     "metadata": {},
     "outputs": []
    }
   ],
   "metadata": {}
  }
 ]
}